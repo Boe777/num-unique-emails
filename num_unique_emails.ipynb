{
 "cells": [
  {
   "cell_type": "code",
   "execution_count": 1,
   "id": "b1b43b61-0ea3-41ec-bf4e-181024cadda8",
   "metadata": {},
   "outputs": [],
   "source": [
    "def numUniqueEmails(emails):\n",
    "    unique_emails = set()  # Setting to store unique emails\n",
    "    \n",
    "    for email in emails:\n",
    "        local, domain = email.split('@')  # Separating email address by '@' character\n",
    "        \n",
    "        # Removing periods in the local name\n",
    "        local = local.replace('.', '')\n",
    "        \n",
    "        # Truncating the local name at the first '+' if it exists\n",
    "        if '+' in local:\n",
    "            local = local.split('+')[0]\n",
    "        \n",
    "        # Reconstructing the email and add to the set of unique emails\n",
    "        unique_emails.add(local + '@' + domain) \n",
    "    \n",
    "    return len(unique_emails)"
   ]
  },
  {
   "cell_type": "code",
   "execution_count": 2,
   "id": "8965125f-1cca-4493-940a-28109c05ba9c",
   "metadata": {},
   "outputs": [
    {
     "name": "stdout",
     "output_type": "stream",
     "text": [
      "4\n"
     ]
    }
   ],
   "source": [
    "emails = [\n",
    "    \"test.email+spam@gmail.com\",\n",
    "    \"test.email@gmail.com\",\n",
    "    \"test.email@Gmail.com\",\n",
    "    \"testemail@gmail.com\",\n",
    "    \"Test.Email+filter@gmail.com\",\n",
    "    \"test.email123@gmail.com\"\n",
    "]\n",
    "print(numUniqueEmails(emails))"
   ]
  },
  {
   "cell_type": "code",
   "execution_count": null,
   "id": "cf6c36ed-87d4-4fa8-8bd8-e6dd738efb8e",
   "metadata": {},
   "outputs": [],
   "source": []
  }
 ],
 "metadata": {
  "kernelspec": {
   "display_name": "Python [conda env:base] *",
   "language": "python",
   "name": "conda-base-py"
  },
  "language_info": {
   "codemirror_mode": {
    "name": "ipython",
    "version": 3
   },
   "file_extension": ".py",
   "mimetype": "text/x-python",
   "name": "python",
   "nbconvert_exporter": "python",
   "pygments_lexer": "ipython3",
   "version": "3.12.7"
  }
 },
 "nbformat": 4,
 "nbformat_minor": 5
}
